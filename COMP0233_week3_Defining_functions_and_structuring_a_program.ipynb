{
  "nbformat": 4,
  "nbformat_minor": 0,
  "metadata": {
    "colab": {
      "provenance": [],
      "collapsed_sections": [],
      "authorship_tag": "ABX9TyPBbwc8IqfSMgJxxBCGZA0w",
      "include_colab_link": true
    },
    "kernelspec": {
      "name": "python3",
      "display_name": "Python 3"
    },
    "language_info": {
      "name": "python"
    }
  },
  "cells": [
    {
      "cell_type": "markdown",
      "metadata": {
        "id": "view-in-github",
        "colab_type": "text"
      },
      "source": [
        "<a href=\"https://colab.research.google.com/github/jiahao20geng/COMP233/blob/main/COMP0233_week3_Defining_functions_and_structuring_a_program.ipynb\" target=\"_parent\"><img src=\"https://colab.research.google.com/assets/colab-badge.svg\" alt=\"Open In Colab\"/></a>"
      ]
    },
    {
      "cell_type": "code",
      "execution_count": null,
      "metadata": {
        "colab": {
          "base_uri": "https://localhost:8080/"
        },
        "id": "9voQJlUaeJZd",
        "outputId": "fe634ac9-66db-4e42-e380-7d6dc7b4784a"
      },
      "outputs": [
        {
          "output_type": "stream",
          "name": "stdout",
          "text": [
            "10 [5, 5] fivefive\n"
          ]
        }
      ],
      "source": [
        "def double(x):\n",
        "    return x * 2\n",
        "\n",
        "print(double(5), double([5]), double('five'))"
      ]
    },
    {
      "cell_type": "code",
      "source": [
        "def jeeves(name = \"Sir\"):#设定默认值为Sir\n",
        "    return f\"Very good, {name}\"\n",
        "print(jeeves())\n",
        "print(jeeves('John'))"
      ],
      "metadata": {
        "colab": {
          "base_uri": "https://localhost:8080/"
        },
        "id": "cfiiFOx3faRx",
        "outputId": "8a42fed4-2719-480e-cd70-8c33fdb3f76f"
      },
      "execution_count": null,
      "outputs": [
        {
          "output_type": "stream",
          "name": "stdout",
          "text": [
            "Very good, Sir\n",
            "Very good, John\n"
          ]
        }
      ]
    },
    {
      "cell_type": "code",
      "source": [
        "def jeeves(greeting=\"Very good\", name=\"Sir\"):#设定多个默认值\n",
        "    return f\"{greeting}, {name}\"\n",
        "print(jeeves())\n",
        "print(jeeves(\"Hello\"))\n",
        "print(jeeves(name = \"John\"))\n",
        "print(jeeves(greeting=\"Suits you\"))\n",
        "print(jeeves(\"Hello\", \"Producer\"))"
      ],
      "metadata": {
        "colab": {
          "base_uri": "https://localhost:8080/"
        },
        "id": "G1FrzMRSfm5O",
        "outputId": "59beded2-6e54-495b-9783-3a1803d97b52"
      },
      "execution_count": null,
      "outputs": [
        {
          "output_type": "stream",
          "name": "stdout",
          "text": [
            "Very good, Sir\n",
            "Hello, Sir\n",
            "Very good, John\n",
            "Suits you, Sir\n",
            "Hello, Producer\n"
          ]
        }
      ]
    },
    {
      "cell_type": "code",
      "source": [
        "def double_inplace(vec):\n",
        "    vec[:]=[element * 2 for element in vec]\n",
        "\n",
        "z = list(range(4))\n",
        "double_inplace(z)\n",
        "print(z)"
      ],
      "metadata": {
        "colab": {
          "base_uri": "https://localhost:8080/"
        },
        "id": "ALLL4rK_gLql",
        "outputId": "81f83484-5e96-4d83-f67d-d3a1df3fc95c"
      },
      "execution_count": null,
      "outputs": [
        {
          "output_type": "stream",
          "name": "stdout",
          "text": [
            "[0, 2, 4, 6]\n"
          ]
        }
      ]
    },
    {
      "cell_type": "code",
      "source": [
        "def extend(to, vec, pad):\n",
        "    if len(vec) >= to:\n",
        "        return # Exit early, list is already long enough.\n",
        "    \n",
        "    vec[:] = vec + [pad] * (to - len(vec))\n",
        "x = list(range(3))\n",
        "extend(6, x, 'a')\n",
        "print(x)"
      ],
      "metadata": {
        "colab": {
          "base_uri": "https://localhost:8080/"
        },
        "id": "occ9Vw8MjtAQ",
        "outputId": "f14a73f9-de25-4f5b-cc8b-55b2f785bb0e"
      },
      "execution_count": null,
      "outputs": [
        {
          "output_type": "stream",
          "name": "stdout",
          "text": [
            "[0, 1, 2, 'a', 'a', 'a']\n"
          ]
        }
      ]
    },
    {
      "cell_type": "code",
      "source": [
        "def arrow(before, after):\n",
        "    return f\"{before} -> {after}\"\n",
        "\n",
        "arrow(1, 3)"
      ],
      "metadata": {
        "colab": {
          "base_uri": "https://localhost:8080/",
          "height": 37
        },
        "id": "zR-srtGRlno0",
        "outputId": "d8584fe0-5e35-4310-c199-90591e11884a"
      },
      "execution_count": null,
      "outputs": [
        {
          "output_type": "execute_result",
          "data": {
            "text/plain": [
              "'1 -> 3'"
            ],
            "application/vnd.google.colaboratory.intrinsic+json": {
              "type": "string"
            }
          },
          "metadata": {},
          "execution_count": 19
        }
      ]
    },
    {
      "cell_type": "code",
      "source": [
        "charges = {\"neutron\": 0, \"proton\": 1, \"electron\": -1}\n",
        "for particle in charges.items():\n",
        "    print(arrow(*particle))"
      ],
      "metadata": {
        "colab": {
          "base_uri": "https://localhost:8080/"
        },
        "id": "3j-e4rpKlqM5",
        "outputId": "b8857046-2a9f-4211-921c-2e0669558779"
      },
      "execution_count": null,
      "outputs": [
        {
          "output_type": "stream",
          "name": "stdout",
          "text": [
            "neutron -> 0\n",
            "proton -> 1\n",
            "electron -> -1\n"
          ]
        }
      ]
    },
    {
      "cell_type": "code",
      "source": [
        "def doubler(*sequence):#函数定义中有*，吸收多个参数到函数的列表中\n",
        "    return [x * 2 for x in sequence]\n",
        "doubler(1, 2, 3)"
      ],
      "metadata": {
        "colab": {
          "base_uri": "https://localhost:8080/"
        },
        "id": "E_r37-nCl3mv",
        "outputId": "dddfc511-9f54-4fd0-cd36-341bba23a956"
      },
      "execution_count": null,
      "outputs": [
        {
          "output_type": "execute_result",
          "data": {
            "text/plain": [
              "[2, 4, 6]"
            ]
          },
          "metadata": {},
          "execution_count": 29
        }
      ]
    },
    {
      "cell_type": "code",
      "source": [
        "doubler(5, 2, \"Wow!\")"
      ],
      "metadata": {
        "colab": {
          "base_uri": "https://localhost:8080/"
        },
        "id": "1ZFQXeR3mFPg",
        "outputId": "ec9db6dd-8a06-4d95-a659-9e4ce2f90fc3"
      },
      "execution_count": null,
      "outputs": [
        {
          "output_type": "execute_result",
          "data": {
            "text/plain": [
              "[10, 4, 'Wow!Wow!']"
            ]
          },
          "metadata": {},
          "execution_count": 30
        }
      ]
    },
    {
      "cell_type": "code",
      "source": [
        "def arrowify(**args):#函数定义中有**，则参数为字典的形式\n",
        "    for key, value in args.items():\n",
        "        print(f\"{key} -> {value}\")\n",
        "\n",
        "arrowify(neutron=\"n\", proton=\"p\", electron=\"e\")"
      ],
      "metadata": {
        "colab": {
          "base_uri": "https://localhost:8080/"
        },
        "id": "qtPVWfx8mwZj",
        "outputId": "eeaef805-7107-4592-9890-65253923360e"
      },
      "execution_count": null,
      "outputs": [
        {
          "output_type": "stream",
          "name": "stdout",
          "text": [
            "neutron -> n\n",
            "proton -> p\n",
            "electron -> e\n"
          ]
        }
      ]
    },
    {
      "cell_type": "code",
      "source": [
        "def somefunc(a, b, *args, **kwargs):\n",
        "    print(\"A:\", a)\n",
        "    print(\"B:\", b)\n",
        "    print(\"args:\", args)\n",
        "    print(\"keyword args\", kwargs)\n",
        "somefunc(1, 2,3,4, 5, fis=\"da\",fish=\"Haddock\")"
      ],
      "metadata": {
        "colab": {
          "base_uri": "https://localhost:8080/"
        },
        "id": "5760SX5cm9WM",
        "outputId": "a15a61b8-9388-48db-faac-64a3b9239194"
      },
      "execution_count": null,
      "outputs": [
        {
          "output_type": "stream",
          "name": "stdout",
          "text": [
            "A: 1\n",
            "B: 2\n",
            "args: (3, 4, 5)\n",
            "keyword args {'fis': 'da', 'fish': 'Haddock'}\n"
          ]
        }
      ]
    },
    {
      "cell_type": "code",
      "source": [
        "import math\n",
        "math.sin(1.6)"
      ],
      "metadata": {
        "colab": {
          "base_uri": "https://localhost:8080/"
        },
        "id": "slcHOPeGnmfp",
        "outputId": "41e52f49-c224-4494-92c1-7855d1c0a5f2"
      },
      "execution_count": null,
      "outputs": [
        {
          "output_type": "execute_result",
          "data": {
            "text/plain": [
              "0.9995736030415051"
            ]
          },
          "metadata": {},
          "execution_count": 39
        }
      ]
    },
    {
      "cell_type": "code",
      "source": [
        "type(math)"
      ],
      "metadata": {
        "colab": {
          "base_uri": "https://localhost:8080/"
        },
        "id": "4pK3A5gsnpcE",
        "outputId": "e1295ec2-8ed9-48ca-afd7-14ff93e7ea4e"
      },
      "execution_count": null,
      "outputs": [
        {
          "output_type": "execute_result",
          "data": {
            "text/plain": [
              "module"
            ]
          },
          "metadata": {},
          "execution_count": 40
        }
      ]
    },
    {
      "cell_type": "code",
      "source": [
        "dir(math)"
      ],
      "metadata": {
        "colab": {
          "base_uri": "https://localhost:8080/"
        },
        "id": "WghrZbDtpH34",
        "outputId": "295b5ceb-8069-4359-f089-9baec1405c82"
      },
      "execution_count": null,
      "outputs": [
        {
          "output_type": "execute_result",
          "data": {
            "text/plain": [
              "['__doc__',\n",
              " '__loader__',\n",
              " '__name__',\n",
              " '__package__',\n",
              " '__spec__',\n",
              " 'acos',\n",
              " 'acosh',\n",
              " 'asin',\n",
              " 'asinh',\n",
              " 'atan',\n",
              " 'atan2',\n",
              " 'atanh',\n",
              " 'ceil',\n",
              " 'copysign',\n",
              " 'cos',\n",
              " 'cosh',\n",
              " 'degrees',\n",
              " 'e',\n",
              " 'erf',\n",
              " 'erfc',\n",
              " 'exp',\n",
              " 'expm1',\n",
              " 'fabs',\n",
              " 'factorial',\n",
              " 'floor',\n",
              " 'fmod',\n",
              " 'frexp',\n",
              " 'fsum',\n",
              " 'gamma',\n",
              " 'gcd',\n",
              " 'hypot',\n",
              " 'inf',\n",
              " 'isclose',\n",
              " 'isfinite',\n",
              " 'isinf',\n",
              " 'isnan',\n",
              " 'ldexp',\n",
              " 'lgamma',\n",
              " 'log',\n",
              " 'log10',\n",
              " 'log1p',\n",
              " 'log2',\n",
              " 'modf',\n",
              " 'nan',\n",
              " 'pi',\n",
              " 'pow',\n",
              " 'radians',\n",
              " 'remainder',\n",
              " 'sin',\n",
              " 'sinh',\n",
              " 'sqrt',\n",
              " 'tan',\n",
              " 'tanh',\n",
              " 'tau',\n",
              " 'trunc']"
            ]
          },
          "metadata": {},
          "execution_count": 41
        }
      ]
    },
    {
      "cell_type": "code",
      "source": [
        "import math\n",
        "from math import sin\n",
        "sin(math.pi)#已经无限趋近于0了\n"
      ],
      "metadata": {
        "colab": {
          "base_uri": "https://localhost:8080/"
        },
        "id": "RCt071ubpOgO",
        "outputId": "81be827a-22c0-4dc1-9d4f-e1286ace2d4e"
      },
      "execution_count": null,
      "outputs": [
        {
          "output_type": "execute_result",
          "data": {
            "text/plain": [
              "1.2246467991473532e-16"
            ]
          },
          "metadata": {},
          "execution_count": 50
        }
      ]
    },
    {
      "cell_type": "code",
      "source": [
        "class Room(object):\n",
        "    pass\n",
        "myroom = Room()\n",
        "type(myroom)"
      ],
      "metadata": {
        "colab": {
          "base_uri": "https://localhost:8080/"
        },
        "id": "MzifaXwRqE5A",
        "outputId": "e46ad5a8-e945-4ce6-c0de-61c2650210e0"
      },
      "execution_count": null,
      "outputs": [
        {
          "output_type": "execute_result",
          "data": {
            "text/plain": [
              "__main__.Room"
            ]
          },
          "metadata": {},
          "execution_count": 51
        }
      ]
    },
    {
      "cell_type": "code",
      "source": [
        "class Room:\n",
        "    def overfull(self):\n",
        "        return len(self.occupants) > self.capacity\n",
        "myroom = Room()\n",
        "myroom.capacity = 3\n",
        "myroom.occupants = [\"Graham\", \"Eric\"]\n",
        "myroom.overfull()"
      ],
      "metadata": {
        "colab": {
          "base_uri": "https://localhost:8080/"
        },
        "id": "BzP9qRAar-6Q",
        "outputId": "1f211703-5c97-4fec-b659-f7d58f1b5ee4"
      },
      "execution_count": null,
      "outputs": [
        {
          "output_type": "execute_result",
          "data": {
            "text/plain": [
              "False"
            ]
          },
          "metadata": {},
          "execution_count": 52
        }
      ]
    },
    {
      "cell_type": "code",
      "source": [
        "myroom.occupants.append(['TerryG'])\n",
        "myroom.occupants.append(['John'])\n",
        "myroom.overfull()"
      ],
      "metadata": {
        "colab": {
          "base_uri": "https://localhost:8080/"
        },
        "id": "6lrBDOiYsBj2",
        "outputId": "b78bb069-b5b3-4414-d7f9-6d7a2adea74e"
      },
      "execution_count": null,
      "outputs": [
        {
          "output_type": "execute_result",
          "data": {
            "text/plain": [
              "True"
            ]
          },
          "metadata": {},
          "execution_count": 53
        }
      ]
    },
    {
      "cell_type": "code",
      "source": [
        "class Room:\n",
        "    def __init__(self, name, exits, capacity, occupants=[]):\n",
        "        self.name = name\n",
        "        self.occupants = occupants  # Note the default argument, occupants start empty\n",
        "        self.exits = exits\n",
        "        self.capacity = capacity\n",
        "\n",
        "    def overfull(self):\n",
        "        return len(self.occupants) > self.capacity\n",
        "living = Room(\"Living Room\", {'north': 'garden'}, 3)\n",
        "living.capacity"
      ],
      "metadata": {
        "colab": {
          "base_uri": "https://localhost:8080/"
        },
        "id": "SK8W_AB4slUq",
        "outputId": "8d9465af-712c-4e72-9086-d20d362c3c63"
      },
      "execution_count": null,
      "outputs": [
        {
          "output_type": "execute_result",
          "data": {
            "text/plain": [
              "3"
            ]
          },
          "metadata": {},
          "execution_count": 60
        }
      ]
    },
    {
      "cell_type": "code",
      "source": [
        "def barcode(one, two, three=3, four=4):\n",
        "     output = str(one) + str(two) + str(three) + str(four)\n",
        "     return output\n",
        "print(barcode(1,3,5))"
      ],
      "metadata": {
        "colab": {
          "base_uri": "https://localhost:8080/"
        },
        "id": "thE_yKf_tjNB",
        "outputId": "9512f7f0-60ab-45c1-f377-51010d5c2b9f"
      },
      "execution_count": null,
      "outputs": [
        {
          "output_type": "stream",
          "name": "stdout",
          "text": [
            "1354\n"
          ]
        }
      ]
    },
    {
      "cell_type": "code",
      "source": [
        "def triple(data):\n",
        "     return data * 3\n",
        "print(triple(1))\n"
      ],
      "metadata": {
        "colab": {
          "base_uri": "https://localhost:8080/"
        },
        "id": "ZMGZluWeuu4C",
        "outputId": "57095066-d186-4237-dab8-9934ec95fbad"
      },
      "execution_count": null,
      "outputs": [
        {
          "output_type": "stream",
          "name": "stdout",
          "text": [
            "3\n"
          ]
        }
      ]
    },
    {
      "cell_type": "code",
      "source": [],
      "metadata": {
        "id": "IIu6NFPsveZ5"
      },
      "execution_count": null,
      "outputs": []
    }
  ]
}